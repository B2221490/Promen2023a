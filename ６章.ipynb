{
  "nbformat": 4,
  "nbformat_minor": 0,
  "metadata": {
    "colab": {
      "provenance": [],
      "authorship_tag": "ABX9TyOgn/Vy09+yjisYatU7KZNU",
      "include_colab_link": true
    },
    "kernelspec": {
      "name": "python3",
      "display_name": "Python 3"
    },
    "language_info": {
      "name": "python"
    }
  },
  "cells": [
    {
      "cell_type": "markdown",
      "metadata": {
        "id": "view-in-github",
        "colab_type": "text"
      },
      "source": [
        "<a href=\"https://colab.research.google.com/github/B2221490/Promen2023a/blob/main/%EF%BC%96%E7%AB%A0.ipynb\" target=\"_parent\"><img src=\"https://colab.research.google.com/assets/colab-badge.svg\" alt=\"Open In Colab\"/></a>"
      ]
    },
    {
      "cell_type": "markdown",
      "source": [
        "課題1"
      ],
      "metadata": {
        "id": "yDYAhzeuDurM"
      }
    },
    {
      "cell_type": "code",
      "source": [
        "text = \"\"\"PPAP\n",
        "I have a pen.\n",
        "I have an apple.\n",
        "Apple pen！\n",
        "I have a pen.\n",
        "I have a pineapple.\n",
        "Pineapple pen！\n",
        "Apple pen.\n",
        "Pineapple pen.\n",
        "Pen-pineapple-Apple-pen！\"\"\""
      ],
      "metadata": {
        "id": "gAmioXyA18Tu"
      },
      "execution_count": 4,
      "outputs": []
    },
    {
      "cell_type": "code",
      "execution_count": 14,
      "metadata": {
        "colab": {
          "base_uri": "https://localhost:8080/"
        },
        "id": "xxSJYxRX0Vyr",
        "outputId": "d6a94c2b-f302-4c94-a421-1e839ef8eb09"
      },
      "outputs": [
        {
          "output_type": "stream",
          "name": "stdout",
          "text": [
            "[('pen', 8), ('i', 4), ('have', 4), ('apple', 4), ('pineapple', 4), ('a', 3), ('ppap', 1), ('an', 1)]\n"
          ]
        }
      ],
      "source": [
        "import  string\n",
        "def word_count(text):\n",
        "  text = text.replace('！', '')\n",
        "  text = text.replace('-', ' ')\n",
        "  text = text.translate(str.maketrans('', '', string.punctuation))\n",
        "  text = text.lower().split()\n",
        "\n",
        "  moji  = {}\n",
        "  for char  in  text:\n",
        "    if  char  not in  moji:\n",
        "      moji[char]=1\n",
        "    else:\n",
        "      moji[char]+=1\n",
        "\n",
        "  narabikae = sorted(moji.items(),key=lambda  x:x[1],reverse=True)\n",
        "  print(narabikae)\n",
        "\n",
        "word_count(text)\n"
      ]
    },
    {
      "cell_type": "markdown",
      "source": [
        "課題2"
      ],
      "metadata": {
        "id": "ICcKc2WEDyqh"
      }
    },
    {
      "cell_type": "code",
      "source": [
        "seiseki_data = {\"課題\" : [\"B+\",\"A\",\"B+\",\"A\",\"A\",\"A\",\"A\",\"A\",\"B+\",\"A\",\n",
        "                       \"A\",\"B+\",\"A\",\"B+\",\"A\"] ,\n",
        "             \"小テスト\" : [50,50,50,15,40,50,50,50,50,\n",
        "                           15,45,40,50,50]\n",
        "             }"
      ],
      "metadata": {
        "id": "xdknzvxZ74oa"
      },
      "execution_count": 18,
      "outputs": []
    },
    {
      "cell_type": "code",
      "source": [
        "def seiseki():\n",
        "  kadai = []\n",
        "  for seiseki in  seiseki_data['課題']:\n",
        "   seiseki  = seiseki.replace('A','5').replace('B+','4').replace('B','3').replace('B-','2').replace('C+','1').replace('C','0')\n",
        "   kadai.append(int(seiseki))\n",
        "  kadai =  sum(kadai)\n",
        "\n",
        "  test  = []\n",
        "  test  = sum(seiseki_data['小テスト'])/28\n",
        "  hantei  = []\n",
        "  hantei  = kadai + test\n",
        "  print(hantei)\n",
        "\n",
        "seiseki()"
      ],
      "metadata": {
        "colab": {
          "base_uri": "https://localhost:8080/"
        },
        "id": "LFYHHkyp8BWq",
        "outputId": "de7b99ca-6b91-4d3a-a82c-a2323f7cb2f9"
      },
      "execution_count": 50,
      "outputs": [
        {
          "output_type": "stream",
          "name": "stdout",
          "text": [
            "91.60714285714286\n"
          ]
        }
      ]
    },
    {
      "cell_type": "markdown",
      "source": [
        "課題3"
      ],
      "metadata": {
        "id": "625iWTqtD1bc"
      }
    },
    {
      "cell_type": "code",
      "source": [
        "one_unit_class = (\"キャリア形成Ａ１（Ａ）\",\"千歳学(Ａ)\",\"言語リテラシー１(Ａ)\",\n",
        "                  \"理工学基礎実験１（Ａ）\",\"スポーツ総合１(Ａ)\",\"健康科学(Ａ・Ｂ)\")\n",
        "seiseki_data = {\"授業\":[\"物理学入門(Ａ・Ｂ)\",\"化学入門(Ａ・Ｂ)\",\"エレクトロニクス入門(Ａ・Ｂ)\",\n",
        "                      \"情報学基礎演習(Ａ)\",\"キャリア形成Ａ１（Ａ）\",\"千歳学(Ａ)\",\n",
        "                      \"言語リテラシー１(Ａ)\",\"微分積分学Ⅰ（Ａ）\",\"理工学基礎実験１（Ａ）\",\n",
        "                      \"理系のための基礎英語Ⅰ(Ａ)\",\"日本国憲法(遠隔)\",\"スポーツ総合１(Ａ)\",\n",
        "                      \"健康科学(Ａ・Ｂ)\"],\n",
        "\n",
        "              \"成績\":[\"良\",\"秀\",\"秀\",\"秀\",\"秀\",\"秀\",\"秀\",\"優\",\"優\",\"秀\",\"秀\",\"優\",\"優\"]\n",
        "              }"
      ],
      "metadata": {
        "id": "e9TIyXblDivS"
      },
      "execution_count": 51,
      "outputs": []
    },
    {
      "cell_type": "code",
      "source": [
        "def gpa():\n",
        "  seiseki2  = []\n",
        "  for seiseki in  seiseki_data['成績']:\n",
        "    seiseki = seiseki.replace('秀','4').replace('優','3').replace('良','2').replace('可','1').replace('不可','0')\n",
        "    seiseki2.append(int(seiseki))\n",
        "\n",
        "  sum = 0\n",
        "  tani  = 0\n",
        "  for i,kamoku in  enumerate(seiseki_data[\"授業\"]):\n",
        "    if not kamoku in one_unit_class:\n",
        "      sum += 2*seiseki2[i]\n",
        "      tani  +=  2\n",
        "    else:\n",
        "      sum += seiseki2[i]\n",
        "      tani  +=  1\n",
        "\n",
        "  print(sum/tani)\n",
        "\n",
        "gpa()\n"
      ],
      "metadata": {
        "colab": {
          "base_uri": "https://localhost:8080/"
        },
        "id": "GFJyuckODtzb",
        "outputId": "5e7cac11-0027-4d40-f86e-b75536a68da2"
      },
      "execution_count": 77,
      "outputs": [
        {
          "output_type": "stream",
          "name": "stdout",
          "text": [
            "3.55\n"
          ]
        }
      ]
    }
  ]
}