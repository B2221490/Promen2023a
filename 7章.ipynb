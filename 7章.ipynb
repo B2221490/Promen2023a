{
  "nbformat": 4,
  "nbformat_minor": 0,
  "metadata": {
    "colab": {
      "provenance": [],
      "authorship_tag": "ABX9TyMMRDPtkuE7EDA2/p0TTPp5",
      "include_colab_link": true
    },
    "kernelspec": {
      "name": "python3",
      "display_name": "Python 3"
    },
    "language_info": {
      "name": "python"
    }
  },
  "cells": [
    {
      "cell_type": "markdown",
      "metadata": {
        "id": "view-in-github",
        "colab_type": "text"
      },
      "source": [
        "<a href=\"https://colab.research.google.com/github/B2221490/Promen2023a/blob/main/7%E7%AB%A0.ipynb\" target=\"_parent\"><img src=\"https://colab.research.google.com/assets/colab-badge.svg\" alt=\"Open In Colab\"/></a>"
      ]
    },
    {
      "cell_type": "markdown",
      "source": [
        "課題1"
      ],
      "metadata": {
        "id": "xnW_idxT2sy7"
      }
    },
    {
      "cell_type": "code",
      "execution_count": 16,
      "metadata": {
        "colab": {
          "base_uri": "https://localhost:8080/"
        },
        "id": "zygiGI-J0ZWm",
        "outputId": "40e06b9b-bb02-4d4a-a431-3bda7b0117b6"
      },
      "outputs": [
        {
          "output_type": "stream",
          "name": "stdout",
          "text": [
            "[('pen', 8), ('i', 4), ('have', 4), ('apple', 4), ('pineapple', 4), ('a', 3), ('ppap', 1), ('an', 1)]\n"
          ]
        }
      ],
      "source": [
        "import  string\n",
        "\n",
        "moji  = {}\n",
        "\n",
        "with  open('ppap.txt',mode='r+')  as  f:\n",
        "  line  = f.readline()\n",
        "  while line:\n",
        "    line  = line.replace('！', '')\n",
        "    line  = line.replace('-', ' ')\n",
        "    line  = line.translate(str.maketrans('', '', string.punctuation))\n",
        "    line  = line.lower().split()\n",
        "\n",
        "    for char  in  line:\n",
        "      if  char not  in  moji:\n",
        "        moji[char]=1\n",
        "      else:\n",
        "        moji[char]+=1\n",
        "\n",
        "    line  = f.readline()\n",
        "\n",
        "narabikae =sorted(moji.items(),key=lambda x:x[1],reverse=True)\n",
        "print(narabikae)"
      ]
    },
    {
      "cell_type": "markdown",
      "source": [
        "課題2"
      ],
      "metadata": {
        "id": "F642XtJoNN3m"
      }
    },
    {
      "cell_type": "code",
      "source": [
        "kadai = 0\n",
        "test = []\n",
        "with  open('toukei_seiseki.txt',mode='r+')  as  f:\n",
        "   line  = f.readline()\n",
        "   while line:\n",
        "    line  = line.lower().split()\n",
        "    if   line[0].isdecimal()==True:\n",
        "      del line[0]\n",
        "      if  'a' in  line[0]:\n",
        "        kadai+=5\n",
        "      elif  'b+'  in  line[0]:\n",
        "        kadai+=4\n",
        "      elif  'b' in  line[0]:\n",
        "        kadai+=3\n",
        "      elif 'b-'  in  line[0]:\n",
        "        kadai+=2\n",
        "      elif  'c+'  in  line[0]:\n",
        "        kadai+=1\n",
        "      else:\n",
        "        kadai=kadai\n",
        "      del line[0]\n",
        "      if  not len(line)==0:\n",
        "        test.append(int(line[0]))\n",
        "\n",
        "    line  = f.readline()\n",
        "\n",
        "print({kadai})\n",
        "a = 0\n",
        "for i in  test:\n",
        "  a+=i\n",
        "a = a/28\n",
        "tensuu  = kadai+a\n",
        "print(tensuu)\n",
        "\n"
      ],
      "metadata": {
        "colab": {
          "base_uri": "https://localhost:8080/"
        },
        "id": "BigCKPpMNQBq",
        "outputId": "6e7db245-3539-41e4-ae65-0b8fef43e3a1"
      },
      "execution_count": 166,
      "outputs": [
        {
          "output_type": "stream",
          "name": "stdout",
          "text": [
            "{70}\n",
            "91.60714285714286\n"
          ]
        }
      ]
    },
    {
      "cell_type": "markdown",
      "source": [
        "課題3"
      ],
      "metadata": {
        "id": "v9NvFLmc-e3a"
      }
    },
    {
      "cell_type": "code",
      "source": [
        "import  string\n",
        "su = 0\n",
        "tani  = 0\n",
        "\n",
        "with  open('all_seiseki.txt',mode='r+')  as  f:\n",
        "  line  = f.readline()\n",
        "  while line:\n",
        "    line  = line.lower().split()\n",
        "    del line[0:4]\n",
        "\n",
        "    if  '2' in  line[1]:\n",
        "      tani+=2\n",
        "      if  '秀'  in  line[0]:\n",
        "        su+=8\n",
        "      elif  '優'  in  line[0]:\n",
        "        su+=6\n",
        "      elif  '良'  in  line[0]:\n",
        "        su+=4\n",
        "      elif  '可'  in  line[0]:\n",
        "        su+=2\n",
        "      else:\n",
        "        su=su\n",
        "    elif  '1' in  line[1]:\n",
        "      tani+=1\n",
        "      if  '秀'  in  line[0]:\n",
        "        su+=4\n",
        "      elif  '優'  in  line[0]:\n",
        "        su+=3\n",
        "      elif  '良'  in  line[0]:\n",
        "        su+=2\n",
        "      elif  '可'  in  line[0]:\n",
        "        su+=1\n",
        "      else:\n",
        "        su=su\n",
        "\n",
        "    line  = f.readline()\n",
        "\n",
        "print(f\"GPAは{su/tani}です\")"
      ],
      "metadata": {
        "colab": {
          "base_uri": "https://localhost:8080/"
        },
        "id": "JD_lRn2h2sCD",
        "outputId": "8c4784eb-064f-4e25-d301-09ac5540b406"
      },
      "execution_count": 158,
      "outputs": [
        {
          "output_type": "stream",
          "name": "stdout",
          "text": [
            "GPAは3.262295081967213です\n"
          ]
        }
      ]
    }
  ]
}