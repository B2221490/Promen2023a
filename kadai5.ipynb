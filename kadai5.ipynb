{
  "nbformat": 4,
  "nbformat_minor": 0,
  "metadata": {
    "colab": {
      "provenance": [],
      "authorship_tag": "ABX9TyNkVTr/ZRbh1P95W1MfneCw",
      "include_colab_link": true
    },
    "kernelspec": {
      "name": "python3",
      "display_name": "Python 3"
    },
    "language_info": {
      "name": "python"
    }
  },
  "cells": [
    {
      "cell_type": "markdown",
      "metadata": {
        "id": "view-in-github",
        "colab_type": "text"
      },
      "source": [
        "<a href=\"https://colab.research.google.com/github/B2221490/Promen2023a/blob/main/kadai5.ipynb\" target=\"_parent\"><img src=\"https://colab.research.google.com/assets/colab-badge.svg\" alt=\"Open In Colab\"/></a>"
      ]
    },
    {
      "cell_type": "code",
      "execution_count": 49,
      "metadata": {
        "colab": {
          "base_uri": "https://localhost:8080/"
        },
        "id": "mXCOrXh4Xbaq",
        "outputId": "3d91ffe5-8469-45a5-e13d-847f091d9ea1"
      },
      "outputs": [
        {
          "output_type": "stream",
          "name": "stdout",
          "text": [
            "1つ目のリスト：[1, 3, 4, 2, 6]\n",
            "2つ目のリスト：[1, 2, 5, 8, 6]\n",
            "重複削除リスト：{1, 2, 3, 4, 5, 6, 8}\n",
            "共通要素リスト：{1, 2, 6}\n"
          ]
        }
      ],
      "source": [
        "import random\n",
        "\n",
        "number  = [1,2,3,4,5,6,7,8,9]\n",
        "a = []\n",
        "b = []\n",
        "random.shuffle(number)\n",
        "for i in  range(5):\n",
        "  a.append(number[i])  \n",
        "random.shuffle(number)\n",
        "for j in  range(5):\n",
        "  b.append(number[j])\n",
        "print(f\"1つ目のリスト：{a}\")\n",
        "print(f'2つ目のリスト：{b}')\n",
        "c = (set(a)|set(b))\n",
        "d = (set(a)&set(b))\n",
        "print(f'重複削除リスト：{c}')\n",
        "print(f'共通要素リスト：{d}')"
      ]
    },
    {
      "cell_type": "code",
      "source": [
        "from IPython.lib.display import Code\n",
        "todohuken_data = [{\"コード\": 24, \"都道府県\": \"三重\", \"県庁所在地\": \"津\"},\n",
        "                  {\"コード\": 25, \"都道府県\": \"滋賀\", \"県庁所在地\": \"大津\"},\n",
        "                  {\"コード\": 31, \"都道府県\": \"鳥取\"},\n",
        "                  {\"コード\": 32, \"都道府県\": \"島根\", \"県庁所在地\": \"松江\"},\n",
        "                  {\"コード\": 37, \"都道府県\": \"香川\", \"県庁所在地\": \"高松\"},\n",
        "                  {\"コード\": 38, \"都道府県\": \"愛媛\", \"県庁所在地\": \"松山\"}] \n",
        "code  = [d.get('コード')for d in  todohuken_data]\n",
        "print(code)\n",
        "kenn  = [d.get('都道府県')for d in  todohuken_data]\n",
        "print(kenn)       \n",
        "tyou  = [d.get('県庁所在地')for d in  todohuken_data]\n",
        "print(tyou)                         "
      ],
      "metadata": {
        "colab": {
          "base_uri": "https://localhost:8080/"
        },
        "id": "sXsxT09MewBz",
        "outputId": "e1cb6b64-cf2d-4136-fb1d-dccb98e2213f"
      },
      "execution_count": 50,
      "outputs": [
        {
          "output_type": "stream",
          "name": "stdout",
          "text": [
            "[24, 25, 31, 32, 37, 38]\n",
            "['三重', '滋賀', '鳥取', '島根', '香川', '愛媛']\n",
            "['津', '大津', None, '松江', '高松', '松山']\n"
          ]
        }
      ]
    },
    {
      "cell_type": "code",
      "source": [
        "def count(string):\n",
        "  moji  = {}\n",
        "  for char  in  string:\n",
        "    if  char.isalpha():\n",
        "      if  char  not in  moji:\n",
        "        moji[char]=0\n",
        "      moji[char]+=1\n",
        "    else:\n",
        "      print('英字を入力してください。')\n",
        "      return     \n",
        "  return  moji\n",
        "\n",
        "bunn  = input()\n",
        "print(count(bunn))\n"
      ],
      "metadata": {
        "colab": {
          "base_uri": "https://localhost:8080/"
        },
        "id": "eMQJ4QuNilPK",
        "outputId": "866e2e09-86f2-4233-b371-c085d64e92f6"
      },
      "execution_count": 51,
      "outputs": [
        {
          "output_type": "stream",
          "name": "stdout",
          "text": [
            "hiahhiehgw\n",
            "{'h': 4, 'i': 2, 'a': 1, 'e': 1, 'g': 1, 'w': 1}\n"
          ]
        }
      ]
    },
    {
      "cell_type": "code",
      "source": [
        "university_dic = {\n",
        "    \"Chitose\" : 25,\n",
        "    \"Hokudai\" : 105,\n",
        "    \"Muroran\" : 74,\n",
        "    \"Hakodate\": 23,\n",
        "}\n",
        "\n",
        "sorted_dic  = dict(sorted(university_dic.items(),key=lambda  x:x[1]))\n",
        "print(sorted_dic)"
      ],
      "metadata": {
        "colab": {
          "base_uri": "https://localhost:8080/"
        },
        "id": "gSdu1fvNqDct",
        "outputId": "864c8929-1c6e-4185-cb55-d2963020416d"
      },
      "execution_count": 52,
      "outputs": [
        {
          "output_type": "stream",
          "name": "stdout",
          "text": [
            "{'Hakodate': 23, 'Chitose': 25, 'Muroran': 74, 'Hokudai': 105}\n"
          ]
        }
      ]
    },
    {
      "cell_type": "code",
      "source": [
        "def FizzBuzz(n):\n",
        "  count = {'Fizz':0,'Buzz':0,'Jazz':0,'FizzBuzz':0,'FizzJazz':0,'BuzzJazz':0,'FizzBuzzJazz':0,'Others':0}\n",
        "  for i in  range(1,n+1):\n",
        "    if  i%3==0  and i%5==0  and i%7==0:\n",
        "      count['FizzBuzzJazz']+=1\n",
        "    elif i % 3 == 0 and i % 5 == 0:\n",
        "      count[\"FizzBuzz\"] += 1\n",
        "    elif i % 3 == 0 and i % 7 == 0:\n",
        "      count[\"FizzJazz\"] += 1\n",
        "    elif i % 5 == 0 and i % 7 == 0:\n",
        "      count[\"BuzzJazz\"] += 1\n",
        "    elif i % 3 == 0:\n",
        "      count[\"Fizz\"] += 1\n",
        "    elif i % 5 == 0:\n",
        "      count[\"Buzz\"] += 1\n",
        "    elif i % 7 == 0:\n",
        "      count[\"Jazz\"] += 1\n",
        "    else:\n",
        "      count[\"Others\"] += 1\n",
        "\n",
        "  return count\n",
        "\n",
        "\n",
        "print(FizzBuzz(100))    \n",
        "\n",
        "   \n"
      ],
      "metadata": {
        "colab": {
          "base_uri": "https://localhost:8080/"
        },
        "id": "zzQDCblns3qG",
        "outputId": "5705dc24-726c-48b0-a8f2-4868904120d8"
      },
      "execution_count": 55,
      "outputs": [
        {
          "output_type": "stream",
          "name": "stdout",
          "text": [
            "{'Fizz': 23, 'Buzz': 12, 'Jazz': 8, 'FizzBuzz': 6, 'FizzJazz': 4, 'BuzzJazz': 2, 'FizzBuzzJazz': 0, 'Others': 45}\n"
          ]
        }
      ]
    }
  ]
}